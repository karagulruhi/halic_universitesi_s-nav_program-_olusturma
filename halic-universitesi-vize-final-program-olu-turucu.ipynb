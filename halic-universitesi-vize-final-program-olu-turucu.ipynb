{
 "cells": [
  {
   "cell_type": "code",
   "execution_count": 1,
   "id": "8a7f8b1e",
   "metadata": {
    "_cell_guid": "b1076dfc-b9ad-4769-8c92-a6c4dae69d19",
    "_uuid": "8f2839f25d086af736a60e9eeb907d3b93b6e0e5",
    "execution": {
     "iopub.execute_input": "2024-01-10T15:47:05.359558Z",
     "iopub.status.busy": "2024-01-10T15:47:05.358872Z",
     "iopub.status.idle": "2024-01-10T15:47:06.094430Z",
     "shell.execute_reply": "2024-01-10T15:47:06.093547Z"
    },
    "papermill": {
     "duration": 0.742894,
     "end_time": "2024-01-10T15:47:06.096859",
     "exception": false,
     "start_time": "2024-01-10T15:47:05.353965",
     "status": "completed"
    },
    "tags": []
   },
   "outputs": [],
   "source": [
    "import pandas as pd"
   ]
  },
  {
   "cell_type": "code",
   "execution_count": 2,
   "id": "7c011e66",
   "metadata": {
    "execution": {
     "iopub.execute_input": "2024-01-10T15:47:06.104410Z",
     "iopub.status.busy": "2024-01-10T15:47:06.103961Z",
     "iopub.status.idle": "2024-01-10T15:47:06.145663Z",
     "shell.execute_reply": "2024-01-10T15:47:06.144583Z"
    },
    "papermill": {
     "duration": 0.048847,
     "end_time": "2024-01-10T15:47:06.148967",
     "exception": false,
     "start_time": "2024-01-10T15:47:06.100120",
     "status": "completed"
    },
    "tags": []
   },
   "outputs": [],
   "source": [
    "takvim = pd.read_csv(\"/kaggle/input/halic-final-snav-takvimi/2023-2024-guz-donemi-final-sinav-programi-all-list.csv\")"
   ]
  },
  {
   "cell_type": "code",
   "execution_count": 3,
   "id": "29d9b4dd",
   "metadata": {
    "execution": {
     "iopub.execute_input": "2024-01-10T15:47:06.156767Z",
     "iopub.status.busy": "2024-01-10T15:47:06.156348Z",
     "iopub.status.idle": "2024-01-10T15:47:06.181446Z",
     "shell.execute_reply": "2024-01-10T15:47:06.180339Z"
    },
    "papermill": {
     "duration": 0.03166,
     "end_time": "2024-01-10T15:47:06.183766",
     "exception": false,
     "start_time": "2024-01-10T15:47:06.152106",
     "status": "completed"
    },
    "tags": []
   },
   "outputs": [
    {
     "data": {
      "text/html": [
       "<div>\n",
       "<style scoped>\n",
       "    .dataframe tbody tr th:only-of-type {\n",
       "        vertical-align: middle;\n",
       "    }\n",
       "\n",
       "    .dataframe tbody tr th {\n",
       "        vertical-align: top;\n",
       "    }\n",
       "\n",
       "    .dataframe thead th {\n",
       "        text-align: right;\n",
       "    }\n",
       "</style>\n",
       "<table border=\"1\" class=\"dataframe\">\n",
       "  <thead>\n",
       "    <tr style=\"text-align: right;\">\n",
       "      <th></th>\n",
       "      <th>SINAV GÜNÜ</th>\n",
       "      <th>BAŞLANGIÇ SAATİ</th>\n",
       "      <th>BİTİŞ SAATİ</th>\n",
       "      <th>DERS KODU</th>\n",
       "      <th>DERS ADI</th>\n",
       "      <th>FAKÜLTE/ENSTİTÜ/YÜKSEKOKUL ADI</th>\n",
       "      <th>PROGRAM ADI</th>\n",
       "      <th>SINIF</th>\n",
       "      <th>ŞUBE</th>\n",
       "      <th>ÖĞRETİM ELEMANI ADI</th>\n",
       "      <th>ÖĞRENCİ SAYISI</th>\n",
       "      <th>SINAV SÜRESİ (SLOT SAYISI)</th>\n",
       "      <th>DERSLİK KODLARI</th>\n",
       "    </tr>\n",
       "  </thead>\n",
       "  <tbody>\n",
       "    <tr>\n",
       "      <th>0</th>\n",
       "      <td>2024-01-15 Pazartesi</td>\n",
       "      <td>09:00</td>\n",
       "      <td>11:00</td>\n",
       "      <td>ETI412; ETI412</td>\n",
       "      <td>Translation Criticism; Translation Criticism</td>\n",
       "      <td>Fen Edebiyat Fakültesi; Fen Edebiyat Fakültesi</td>\n",
       "      <td>Mütercim - Tercümanlık (İngilizce); İngilizce ...</td>\n",
       "      <td>4; 4</td>\n",
       "      <td>1; 1</td>\n",
       "      <td>Öğr. Gör. ERDEM AKGÜN; Öğr. Gör. ERDEM AKGÜN</td>\n",
       "      <td>65</td>\n",
       "      <td>2</td>\n",
       "      <td>11325; 11228; 11324</td>\n",
       "    </tr>\n",
       "    <tr>\n",
       "      <th>1</th>\n",
       "      <td>2024-01-15 Pazartesi</td>\n",
       "      <td>09:00</td>\n",
       "      <td>11:00</td>\n",
       "      <td>SOC101; SOC101; SOC101; SOC101</td>\n",
       "      <td>Sociology; Sociology; Sociology; Sociology</td>\n",
       "      <td>Fen Edebiyat Fakültesi; İşletme Fakültesi; İşl...</td>\n",
       "      <td>Psikoloji (İngilizce); İşletme (İngilizce); Ul...</td>\n",
       "      <td>1; 1; 1; 1</td>\n",
       "      <td>1; 1; 1; 1</td>\n",
       "      <td>Dr. Öğr. Üyesi EBRU PEHLİVAN; Dr. Öğr. Üyesi E...</td>\n",
       "      <td>93</td>\n",
       "      <td>2</td>\n",
       "      <td>7616</td>\n",
       "    </tr>\n",
       "    <tr>\n",
       "      <th>2</th>\n",
       "      <td>2024-01-15 Pazartesi</td>\n",
       "      <td>09:00</td>\n",
       "      <td>11:00</td>\n",
       "      <td>MTT111</td>\n",
       "      <td>Moda Tarihi</td>\n",
       "      <td>Güzel Sanatlar Fakültesi</td>\n",
       "      <td>Tekstil ve Moda Tasarımı</td>\n",
       "      <td>1</td>\n",
       "      <td>1</td>\n",
       "      <td>Öğr. Gör. ELVİN BAŞHAN</td>\n",
       "      <td>67</td>\n",
       "      <td>2</td>\n",
       "      <td>10142; 10119; 10118</td>\n",
       "    </tr>\n",
       "    <tr>\n",
       "      <th>3</th>\n",
       "      <td>2024-01-15 Pazartesi</td>\n",
       "      <td>09:00</td>\n",
       "      <td>11:00</td>\n",
       "      <td>GİT111</td>\n",
       "      <td>İletişim Bilimine Giriş</td>\n",
       "      <td>Güzel Sanatlar Fakültesi</td>\n",
       "      <td>Görsel İletişim Tasarımı</td>\n",
       "      <td>1</td>\n",
       "      <td>1</td>\n",
       "      <td>Prof. Dr. MÜGE DEMİR AYRAL</td>\n",
       "      <td>61</td>\n",
       "      <td>2</td>\n",
       "      <td>12616; 12608</td>\n",
       "    </tr>\n",
       "    <tr>\n",
       "      <th>4</th>\n",
       "      <td>2024-01-15 Pazartesi</td>\n",
       "      <td>09:00</td>\n",
       "      <td>11:00</td>\n",
       "      <td>HIT303; HIT303; HIT303</td>\n",
       "      <td>Bütünleşik Pazarlama İletişimi; Bütünleşik Paz...</td>\n",
       "      <td>İşletme Fakültesi; İşletme Fakültesi; İşletme ...</td>\n",
       "      <td>İşletme Enformatiği; Uluslararası Ticaret ve İ...</td>\n",
       "      <td>4; 4; 4</td>\n",
       "      <td>1; 1; 1</td>\n",
       "      <td>Dr. Öğr. Üyesi ÇINAR KILIÇ; Dr. Öğr. Üyesi ÇIN...</td>\n",
       "      <td>78</td>\n",
       "      <td>2</td>\n",
       "      <td>11227; 11331</td>\n",
       "    </tr>\n",
       "  </tbody>\n",
       "</table>\n",
       "</div>"
      ],
      "text/plain": [
       "             SINAV GÜNÜ BAŞLANGIÇ SAATİ BİTİŞ SAATİ  \\\n",
       "0  2024-01-15 Pazartesi           09:00       11:00   \n",
       "1  2024-01-15 Pazartesi           09:00       11:00   \n",
       "2  2024-01-15 Pazartesi           09:00       11:00   \n",
       "3  2024-01-15 Pazartesi           09:00       11:00   \n",
       "4  2024-01-15 Pazartesi           09:00       11:00   \n",
       "\n",
       "                        DERS KODU  \\\n",
       "0                  ETI412; ETI412   \n",
       "1  SOC101; SOC101; SOC101; SOC101   \n",
       "2                          MTT111   \n",
       "3                          GİT111   \n",
       "4          HIT303; HIT303; HIT303   \n",
       "\n",
       "                                            DERS ADI  \\\n",
       "0       Translation Criticism; Translation Criticism   \n",
       "1         Sociology; Sociology; Sociology; Sociology   \n",
       "2                                        Moda Tarihi   \n",
       "3                            İletişim Bilimine Giriş   \n",
       "4  Bütünleşik Pazarlama İletişimi; Bütünleşik Paz...   \n",
       "\n",
       "                      FAKÜLTE/ENSTİTÜ/YÜKSEKOKUL ADI  \\\n",
       "0     Fen Edebiyat Fakültesi; Fen Edebiyat Fakültesi   \n",
       "1  Fen Edebiyat Fakültesi; İşletme Fakültesi; İşl...   \n",
       "2                           Güzel Sanatlar Fakültesi   \n",
       "3                           Güzel Sanatlar Fakültesi   \n",
       "4  İşletme Fakültesi; İşletme Fakültesi; İşletme ...   \n",
       "\n",
       "                                         PROGRAM ADI       SINIF        ŞUBE  \\\n",
       "0  Mütercim - Tercümanlık (İngilizce); İngilizce ...        4; 4        1; 1   \n",
       "1  Psikoloji (İngilizce); İşletme (İngilizce); Ul...  1; 1; 1; 1  1; 1; 1; 1   \n",
       "2                           Tekstil ve Moda Tasarımı           1           1   \n",
       "3                           Görsel İletişim Tasarımı           1           1   \n",
       "4  İşletme Enformatiği; Uluslararası Ticaret ve İ...     4; 4; 4     1; 1; 1   \n",
       "\n",
       "                                 ÖĞRETİM ELEMANI ADI  ÖĞRENCİ SAYISI  \\\n",
       "0       Öğr. Gör. ERDEM AKGÜN; Öğr. Gör. ERDEM AKGÜN              65   \n",
       "1  Dr. Öğr. Üyesi EBRU PEHLİVAN; Dr. Öğr. Üyesi E...              93   \n",
       "2                             Öğr. Gör. ELVİN BAŞHAN              67   \n",
       "3                         Prof. Dr. MÜGE DEMİR AYRAL              61   \n",
       "4  Dr. Öğr. Üyesi ÇINAR KILIÇ; Dr. Öğr. Üyesi ÇIN...              78   \n",
       "\n",
       "   SINAV SÜRESİ (SLOT SAYISI)      DERSLİK KODLARI  \n",
       "0                           2  11325; 11228; 11324  \n",
       "1                           2                 7616  \n",
       "2                           2  10142; 10119; 10118  \n",
       "3                           2         12616; 12608  \n",
       "4                           2         11227; 11331  "
      ]
     },
     "execution_count": 3,
     "metadata": {},
     "output_type": "execute_result"
    }
   ],
   "source": [
    "takvim.head()"
   ]
  },
  {
   "cell_type": "markdown",
   "id": "ce4e9315",
   "metadata": {
    "papermill": {
     "duration": 0.00293,
     "end_time": "2024-01-10T15:47:06.189863",
     "exception": false,
     "start_time": "2024-01-10T15:47:06.186933",
     "status": "completed"
    },
    "tags": []
   },
   "source": [
    "**Gereksiz Kolumları çıkarma**"
   ]
  },
  {
   "cell_type": "code",
   "execution_count": 4,
   "id": "d79dd044",
   "metadata": {
    "execution": {
     "iopub.execute_input": "2024-01-10T15:47:06.197768Z",
     "iopub.status.busy": "2024-01-10T15:47:06.196994Z",
     "iopub.status.idle": "2024-01-10T15:47:06.206451Z",
     "shell.execute_reply": "2024-01-10T15:47:06.205632Z"
    },
    "papermill": {
     "duration": 0.015292,
     "end_time": "2024-01-10T15:47:06.208203",
     "exception": false,
     "start_time": "2024-01-10T15:47:06.192911",
     "status": "completed"
    },
    "tags": []
   },
   "outputs": [],
   "source": [
    "silinecek_sutunlar = [\n",
    "    \"FAKÜLTE/ENSTİTÜ/YÜKSEKOKUL ADI\",\n",
    "    \"PROGRAM ADI\",\n",
    "    \"SINIF\",\n",
    "    \"ŞUBE\",\n",
    "    \"ÖĞRENCİ SAYISI\",\n",
    "    \"SINAV SÜRESİ (SLOT SAYISI)\"\n",
    "]\n",
    "\n",
    "# Sütunları veri çerçevesinden kaldırın\n",
    "takvim = takvim.drop(columns=silinecek_sutunlar)\n",
    "\n",
    "# Değişiklikleri kaydedin\n"
   ]
  },
  {
   "cell_type": "code",
   "execution_count": null,
   "id": "3287e6b7",
   "metadata": {
    "papermill": {
     "duration": 0.002858,
     "end_time": "2024-01-10T15:47:06.214236",
     "exception": false,
     "start_time": "2024-01-10T15:47:06.211378",
     "status": "completed"
    },
    "tags": []
   },
   "outputs": [],
   "source": []
  },
  {
   "cell_type": "code",
   "execution_count": null,
   "id": "56048fb7",
   "metadata": {
    "papermill": {
     "duration": 0.00274,
     "end_time": "2024-01-10T15:47:06.219996",
     "exception": false,
     "start_time": "2024-01-10T15:47:06.217256",
     "status": "completed"
    },
    "tags": []
   },
   "outputs": [],
   "source": []
  },
  {
   "cell_type": "code",
   "execution_count": null,
   "id": "75a1a3d3",
   "metadata": {
    "execution": {
     "iopub.execute_input": "2024-01-09T17:50:08.533732Z",
     "iopub.status.busy": "2024-01-09T17:50:08.533345Z",
     "iopub.status.idle": "2024-01-09T17:51:40.441908Z",
     "shell.execute_reply": "2024-01-09T17:51:40.440792Z",
     "shell.execute_reply.started": "2024-01-09T17:50:08.533699Z"
    },
    "papermill": {
     "duration": 0.002832,
     "end_time": "2024-01-10T15:47:06.225743",
     "exception": false,
     "start_time": "2024-01-10T15:47:06.222911",
     "status": "completed"
    },
    "tags": []
   },
   "outputs": [],
   "source": [
    "\n"
   ]
  },
  {
   "cell_type": "code",
   "execution_count": null,
   "id": "10530792",
   "metadata": {
    "execution": {
     "iopub.status.busy": "2024-01-09T17:28:34.522407Z",
     "iopub.status.idle": "2024-01-09T17:28:34.523557Z",
     "shell.execute_reply": "2024-01-09T17:28:34.523331Z",
     "shell.execute_reply.started": "2024-01-09T17:28:34.523306Z"
    },
    "papermill": {
     "duration": 0.003316,
     "end_time": "2024-01-10T15:47:06.232065",
     "exception": false,
     "start_time": "2024-01-10T15:47:06.228749",
     "status": "completed"
    },
    "tags": []
   },
   "outputs": [],
   "source": [
    "\n",
    "\n"
   ]
  }
 ],
 "metadata": {
  "kaggle": {
   "accelerator": "none",
   "dataSources": [
    {
     "datasetId": 4282616,
     "sourceId": 7370944,
     "sourceType": "datasetVersion"
    },
    {
     "datasetId": 4282665,
     "sourceId": 7370976,
     "sourceType": "datasetVersion"
    }
   ],
   "dockerImageVersionId": 30626,
   "isGpuEnabled": false,
   "isInternetEnabled": true,
   "language": "python",
   "sourceType": "notebook"
  },
  "kernelspec": {
   "display_name": "Python 3",
   "language": "python",
   "name": "python3"
  },
  "language_info": {
   "codemirror_mode": {
    "name": "ipython",
    "version": 3
   },
   "file_extension": ".py",
   "mimetype": "text/x-python",
   "name": "python",
   "nbconvert_exporter": "python",
   "pygments_lexer": "ipython3",
   "version": "3.10.12"
  },
  "papermill": {
   "default_parameters": {},
   "duration": 5.320764,
   "end_time": "2024-01-10T15:47:06.654740",
   "environment_variables": {},
   "exception": null,
   "input_path": "__notebook__.ipynb",
   "output_path": "__notebook__.ipynb",
   "parameters": {},
   "start_time": "2024-01-10T15:47:01.333976",
   "version": "2.4.0"
  }
 },
 "nbformat": 4,
 "nbformat_minor": 5
}
